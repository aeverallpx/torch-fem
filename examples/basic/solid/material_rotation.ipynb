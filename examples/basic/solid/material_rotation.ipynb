{
 "cells": [
  {
   "cell_type": "markdown",
   "metadata": {},
   "source": [
    "# Orientation of orthotropic materials\n",
    "[![Google Collab Book](https://colab.research.google.com/assets/colab-badge.svg)](https://colab.research.google.com/github/meyer-nils/torch-fem/blob/main/examples/basic/solid/material_rotation.ipynb)\n",
    "\n",
    "All unit cubes are clamped at one end and subjected to a uniaxial strain."
   ]
  },
  {
   "cell_type": "code",
   "execution_count": 1,
   "metadata": {},
   "outputs": [],
   "source": [
    "import torch\n",
    "\n",
    "from torchfem import Solid\n",
    "from torchfem.mesh import cube_hexa\n",
    "from torchfem.materials import OrthotropicElasticity3D\n",
    "from torchfem.rotations import (\n",
    "    axis_rotation,\n",
    "    voigt_stress_rotation,\n",
    "    voigt_strain_rotation,\n",
    ")\n",
    "\n",
    "# Set default data type to double precision\n",
    "torch.set_default_dtype(torch.float64)\n",
    "\n",
    "# Orthotropic elasticity (pine wood)\n",
    "material = OrthotropicElasticity3D(\n",
    "    6919.0, 271.0, 450.0, 0.388, 0.375, 0.278, 262.0, 354.0, 34.0\n",
    ")"
   ]
  },
  {
   "cell_type": "code",
   "execution_count": 2,
   "metadata": {},
   "outputs": [],
   "source": [
    "# Generate cube\n",
    "nodes, elements = cube_hexa(5, 5, 5)\n",
    "\n",
    "# Create model\n",
    "box = Solid(nodes, elements, material)\n",
    "\n",
    "# Set constraints\n",
    "s = 0.1\n",
    "box.constraints[nodes[:, 0] == 0.0, 0] = True\n",
    "box.constraints[nodes[:, 0] == 1.0, 0] = True\n",
    "box.constraints[nodes[:, 1] == 0.5, 1] = True\n",
    "box.constraints[nodes[:, 2] == 0.5, 2] = True\n",
    "box.displacements[nodes[:, 0] == 1.0, 0] = s"
   ]
  },
  {
   "cell_type": "code",
   "execution_count": 3,
   "metadata": {},
   "outputs": [
    {
     "name": "stdout",
     "output_type": "stream",
     "text": [
      "Mean stress in x is 691.90. Should be 691.90.\n"
     ]
    }
   ],
   "source": [
    "# Solve\n",
    "u, f, σ, F, α = box.solve()\n",
    "\n",
    "print(\n",
    "    f\"Mean stress in x is {σ[:, 0,0].mean():.2f}. Should be {(material.E_1 * s):.2f}.\"\n",
    ")"
   ]
  },
  {
   "cell_type": "code",
   "execution_count": 4,
   "metadata": {},
   "outputs": [
    {
     "name": "stdout",
     "output_type": "stream",
     "text": [
      "Engineering constants after 90° rotation about y axis:\n",
      "E_1: 450.00\n",
      "E_2: 271.00\n",
      "E_3: 6919.00\n",
      "ν_12: 0.46\n",
      "ν_13: 0.02\n",
      "ν_23: 0.02\n",
      "G_12: 34.00\n",
      "G_13: 354.00\n",
      "G_23: 262.00\n",
      "Mean stress in x is 45.00. Should be 45.00.\n"
     ]
    }
   ],
   "source": [
    "# Rotate material direction\n",
    "R = axis_rotation(torch.tensor([0.0, 1.0, 0.0]), torch.pi / 2)\n",
    "box.material.rotate(R)\n",
    "\n",
    "# Print engineering constants after rotation\n",
    "print(\"Engineering constants after 90° rotation about y axis:\")\n",
    "print(f\"E_1: {box.material.E_1[0].item():.2f}\")\n",
    "print(f\"E_2: {box.material.E_2[0].item():.2f}\")\n",
    "print(f\"E_3: {box.material.E_3[0].item():.2f}\")\n",
    "print(f\"ν_12: {box.material.nu_12[0].item():.2f}\")\n",
    "print(f\"ν_13: {box.material.nu_13[0].item():.2f}\")\n",
    "print(f\"ν_23: {box.material.nu_23[0].item():.2f}\")\n",
    "print(f\"G_12: {box.material.G_12[0].item():.2f}\")\n",
    "print(f\"G_13: {box.material.G_13[0].item():.2f}\")\n",
    "print(f\"G_23: {box.material.G_23[0].item():.2f}\")\n",
    "\n",
    "# Solve\n",
    "u, f, σ, F, α = box.solve()\n",
    "\n",
    "print(\n",
    "    f\"Mean stress in x is {σ[:, 0,0].mean():.2f}. Should be {(material.E_3 * s):.2f}.\"\n",
    ")"
   ]
  },
  {
   "cell_type": "code",
   "execution_count": 5,
   "metadata": {},
   "outputs": [
    {
     "name": "stdout",
     "output_type": "stream",
     "text": [
      "Engineering constants after additional 90° rotation about z axis:\n",
      "E_1: 271.00\n",
      "E_2: 450.00\n",
      "E_3: 6919.00\n",
      "ν_12: 0.28\n",
      "ν_13: 0.02\n",
      "ν_23: 0.02\n",
      "G_12: 34.00\n",
      "G_13: 262.00\n",
      "G_23: 354.00\n",
      "Mean stress in x is 27.10. Should be 27.10.\n"
     ]
    }
   ],
   "source": [
    "# Rotate material direction\n",
    "R = axis_rotation(torch.tensor([0.0, 0.0, 1.0]), torch.pi / 2)\n",
    "box.material.rotate(R)\n",
    "\n",
    "# Print engineering constants after rotation\n",
    "print(\"Engineering constants after additional 90° rotation about z axis:\")\n",
    "print(f\"E_1: {box.material.E_1[0].item():.2f}\")\n",
    "print(f\"E_2: {box.material.E_2[0].item():.2f}\")\n",
    "print(f\"E_3: {box.material.E_3[0].item():.2f}\")\n",
    "print(f\"ν_12: {box.material.nu_12[0].item():.2f}\")\n",
    "print(f\"ν_13: {box.material.nu_13[0].item():.2f}\")\n",
    "print(f\"ν_23: {box.material.nu_23[0].item():.2f}\")\n",
    "print(f\"G_12: {box.material.G_12[0].item():.2f}\")\n",
    "print(f\"G_13: {box.material.G_13[0].item():.2f}\")\n",
    "print(f\"G_23: {box.material.G_23[0].item():.2f}\")\n",
    "\n",
    "# Solve\n",
    "u, f, σ, ε, α = box.solve()\n",
    "\n",
    "print(\n",
    "    f\"Mean stress in x is {σ[:, 0,0].mean():.2f}. Should be {(material.E_2 * s):.2f}.\"\n",
    ")"
   ]
  },
  {
   "cell_type": "markdown",
   "metadata": {},
   "source": [
    "## Rotation invariance of entire model"
   ]
  },
  {
   "cell_type": "code",
   "execution_count": 6,
   "metadata": {},
   "outputs": [
    {
     "data": {
      "application/vnd.jupyter.widget-view+json": {
       "model_id": "1b598ad70e9b49b092f879b592d7df55",
       "version_major": 2,
       "version_minor": 0
      },
      "text/plain": [
       "EmbeddableWidget(value='<iframe srcdoc=\"<!DOCTYPE html>\\n<html>\\n  <head>\\n    <meta http-equiv=&quot;Content-…"
      ]
     },
     "metadata": {},
     "output_type": "display_data"
    },
    {
     "name": "stdout",
     "output_type": "stream",
     "text": [
      "Mean stress in x is 691.90.\n",
      "Mean strain in x is 0.10.\n"
     ]
    }
   ],
   "source": [
    "# Generate cube\n",
    "nodes, elements = cube_hexa(10, 5, 5, 2.0, 1.0, 1.0)\n",
    "\n",
    "# Create model\n",
    "box = Solid(nodes, elements, material)\n",
    "\n",
    "# Set constraints\n",
    "s = 0.2\n",
    "box.constraints[nodes[:, 0] == 0.0, 0] = True\n",
    "box.constraints[nodes[:, 0] == 2.0, 0] = True\n",
    "box.constraints[nodes[:, 1] == 0.5, 1] = True\n",
    "box.constraints[nodes[:, 2] == 0.5, 2] = True\n",
    "box.displacements[nodes[:, 0] == 2.0, 0] = s\n",
    "\n",
    "# Solve\n",
    "u, f, σ, F, α = box.solve()\n",
    "ε = 0.5 * (F.transpose(-1, -2) + F) - torch.eye(3)\n",
    "\n",
    "# Plot\n",
    "box.plot(u=u, node_property={\"Disp\": u[:, 0]})\n",
    "\n",
    "print(f\"Mean stress in x is {σ[:, 0,0].mean():.2f}.\")\n",
    "print(f\"Mean strain in x is {ε[:, 0,0].mean():.2f}.\")"
   ]
  },
  {
   "cell_type": "code",
   "execution_count": 7,
   "metadata": {},
   "outputs": [
    {
     "data": {
      "application/vnd.jupyter.widget-view+json": {
       "model_id": "f0e1786908c140b2802f7f18f8c0231e",
       "version_major": 2,
       "version_minor": 0
      },
      "text/plain": [
       "EmbeddableWidget(value='<iframe srcdoc=\"<!DOCTYPE html>\\n<html>\\n  <head>\\n    <meta http-equiv=&quot;Content-…"
      ]
     },
     "metadata": {},
     "output_type": "display_data"
    },
    {
     "name": "stdout",
     "output_type": "stream",
     "text": [
      "Mean stress in x is 691.90.\n",
      "Mean strain in x is 0.10.\n"
     ]
    }
   ],
   "source": [
    "# Rotate the model to different frame of reference\n",
    "R = axis_rotation(torch.tensor([0.0, 1.0, 0.0]), torch.pi / 2)\n",
    "nodes = nodes @ R.T\n",
    "material.rotate(R)\n",
    "\n",
    "# Create model\n",
    "box = Solid(nodes, elements, material)\n",
    "\n",
    "# Set constraints in rotated frame\n",
    "s = 0.2\n",
    "box.constraints[nodes[:, 2] <= 0.01, 2] = True\n",
    "box.constraints[nodes[:, 2] == 2.0, 2] = True\n",
    "box.constraints[nodes[:, 1] == 0.5, 1] = True\n",
    "box.constraints[nodes[:, 0] == -0.5, 0] = True\n",
    "box.displacements[nodes[:, 2] == 2.0, 2] = s\n",
    "\n",
    "# Solve\n",
    "u, f, σ, F, α = box.solve()\n",
    "ε = 0.5 * (F.transpose(-1, -2) + F) - torch.eye(3)\n",
    "\n",
    "# Rotate back\n",
    "box.material.rotate(R.T)\n",
    "box.nodes = nodes @ R\n",
    "u = u @ R\n",
    "f = f @ R\n",
    "σ = torch.einsum(\"...ij,...ik,...jl->...kl\", σ, R, R)\n",
    "ε = torch.einsum(\"...ij,...ik,...jl->...kl\", ε, R, R)\n",
    "\n",
    "# Plot\n",
    "box.plot(u=u, node_property={\"Disp\": u[:, 0]})\n",
    "\n",
    "print(f\"Mean stress in x is {σ[:, 0,0].mean():.2f}.\")\n",
    "print(f\"Mean strain in x is {ε[:, 0,0].mean():.2f}.\")"
   ]
  }
 ],
 "metadata": {
  "kernelspec": {
   "display_name": "torchfem",
   "language": "python",
   "name": "python3"
  },
  "language_info": {
   "codemirror_mode": {
    "name": "ipython",
    "version": 3
   },
   "file_extension": ".py",
   "mimetype": "text/x-python",
   "name": "python",
   "nbconvert_exporter": "python",
   "pygments_lexer": "ipython3",
   "version": "3.10.13"
  }
 },
 "nbformat": 4,
 "nbformat_minor": 2
}
