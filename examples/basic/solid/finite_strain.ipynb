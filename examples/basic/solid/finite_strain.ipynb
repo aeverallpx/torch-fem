{
 "cells": [
  {
   "cell_type": "code",
   "execution_count": 1,
   "metadata": {},
   "outputs": [],
   "source": [
    "import torch\n",
    "import pyvista\n",
    "\n",
    "from torchfem import Solid\n",
    "from torchfem.mesh import cube_hexa\n",
    "from torchfem.materials import IsotropicElasticity3D, IsotropicKirchhoff3D\n",
    "from torchfem.io import export_mesh\n",
    "\n",
    "# Set default data type to double precision\n",
    "torch.set_default_dtype(torch.float64)\n",
    "\n",
    "# Generate cube\n",
    "L = 5.0\n",
    "P = -5\n",
    "nodes, elements = cube_hexa(25, 5, 5, L, 1.0, 1.0)\n",
    "tip = (nodes[:, 0] == L) & (nodes[:, 1] == 0.5) & (nodes[:, 2] == 0.5)"
   ]
  },
  {
   "cell_type": "code",
   "execution_count": 2,
   "metadata": {},
   "outputs": [
    {
     "name": "stdout",
     "output_type": "stream",
     "text": [
      "Tip deflection: tensor([[-3.4840e-11,  1.6717e-10, -2.4886e+00]])\n",
      "Maximum stress σ_xx: 110.315\n"
     ]
    },
    {
     "data": {
      "application/vnd.jupyter.widget-view+json": {
       "model_id": "18005570ae0f4d7db254c2d7a55a4179",
       "version_major": 2,
       "version_minor": 0
      },
      "text/plain": [
       "EmbeddableWidget(value='<iframe srcdoc=\"<!DOCTYPE html>\\n<html>\\n  <head>\\n    <meta http-equiv=&quot;Content-…"
      ]
     },
     "metadata": {},
     "output_type": "display_data"
    }
   ],
   "source": [
    "# Create model with small strain isotropic elasticity\n",
    "material = IsotropicElasticity3D(E=1000.0, nu=0.3)\n",
    "beam1 = Solid(nodes, elements, material)\n",
    "\n",
    "# Assign boundary conditions\n",
    "beam1.constraints[nodes[:, 0] == 0, :] = True\n",
    "beam1.forces[tip, 2] = P\n",
    "\n",
    "# Solve\n",
    "u1, f1, σ1, F1, α1 = beam1.solve()\n",
    "\n",
    "# Compute strains\n",
    "ε1 = 0.5 * (F1.transpose(-1, -2) + F1) - torch.eye(3)\n",
    "\n",
    "print(f\"Tip deflection: {u1[tip]}\")\n",
    "print(f\"Maximum stress σ_xx: {σ1.max():.3f}\")\n",
    "\n",
    "# Plot\n",
    "beam1.plot(u=u1, element_property={\"Stress\": σ1[:, 0]})"
   ]
  },
  {
   "cell_type": "code",
   "execution_count": 3,
   "metadata": {},
   "outputs": [
    {
     "name": "stdout",
     "output_type": "stream",
     "text": [
      "Tip deflection: tensor([[-7.7360e-01,  1.2317e-16, -2.3706e+00]])\n",
      "Maximum stress σ_xx: 120.508\n"
     ]
    },
    {
     "data": {
      "application/vnd.jupyter.widget-view+json": {
       "model_id": "362dd7006eb344069518321d8523962d",
       "version_major": 2,
       "version_minor": 0
      },
      "text/plain": [
       "EmbeddableWidget(value='<iframe srcdoc=\"<!DOCTYPE html>\\n<html>\\n  <head>\\n    <meta http-equiv=&quot;Content-…"
      ]
     },
     "metadata": {},
     "output_type": "display_data"
    }
   ],
   "source": [
    "# Create model with Kirchhoff material\n",
    "material = IsotropicKirchhoff3D(E=1000.0, nu=0.3)\n",
    "beam2 = Solid(nodes, elements, material)\n",
    "\n",
    "# Assign boundary conditions\n",
    "beam2.constraints[nodes[:, 0] == 0, :] = True\n",
    "beam2.forces[tip, 2] = P\n",
    "\n",
    "# Solve\n",
    "u2, f2, σ2, F2, α2 = beam2.solve(max_iter=100)\n",
    "\n",
    "# Compute material rotation from polar decomposition of deformation gradient\n",
    "U, _, Vh = torch.linalg.svd(F2)\n",
    "R = U @ Vh\n",
    "\n",
    "print(f\"Tip deflection: {u2[tip]}\")\n",
    "print(f\"Maximum stress σ_xx: {σ2.max():.3f}\")\n",
    "\n",
    "# Plot\n",
    "beam2.plot(u=u2, element_property={\"Stress\": σ2[:, 0]}, orientations=R, opacity=0.5)\n",
    "export_mesh(beam2, \"temp.vtu\", nodal_data={\"U2\": u2, \"U1\": u1})"
   ]
  }
 ],
 "metadata": {
  "kernelspec": {
   "display_name": "torchfem",
   "language": "python",
   "name": "python3"
  },
  "language_info": {
   "codemirror_mode": {
    "name": "ipython",
    "version": 3
   },
   "file_extension": ".py",
   "mimetype": "text/x-python",
   "name": "python",
   "nbconvert_exporter": "python",
   "pygments_lexer": "ipython3",
   "version": "3.10.13"
  }
 },
 "nbformat": 4,
 "nbformat_minor": 2
}
