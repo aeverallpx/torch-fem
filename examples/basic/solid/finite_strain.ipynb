{
 "cells": [
  {
   "cell_type": "markdown",
   "metadata": {},
   "source": [
    "# Finite Strain \n",
    "[![Google Collab Book](https://colab.research.google.com/assets/colab-badge.svg)](https://colab.research.google.com/github/meyer-nils/torch-fem/blob/main/examples/basic/solid/finite_strain.ipynb)\n",
    "\n",
    "We compare small-strain and finite-strain material models for a cantilever beam subjected to a concentrated force at its tip."
   ]
  },
  {
   "cell_type": "code",
   "execution_count": 1,
   "metadata": {},
   "outputs": [
    {
     "name": "stdout",
     "output_type": "stream",
     "text": [
      "Number of nodes: 525\n",
      "Number of elements: 320\n"
     ]
    }
   ],
   "source": [
    "import torch\n",
    "import pyvista\n",
    "\n",
    "from torchfem import Solid\n",
    "from torchfem.mesh import cube_hexa\n",
    "from torchfem.materials import (\n",
    "    IsotropicElasticity3D,\n",
    "    IsotropicSaintVenantKirchhoff3D,\n",
    "    NeoHookean3D,\n",
    ")\n",
    "\n",
    "# Set default data type to double precision\n",
    "torch.set_default_dtype(torch.float64)\n",
    "\n",
    "# Generate beam\n",
    "L = 5.0\n",
    "P = -5\n",
    "nodes, elements = cube_hexa(21, 5, 5, L, 1.0, 1.0)\n",
    "tip = (nodes[:, 0] == L) & (nodes[:, 1] == 0.5) & (nodes[:, 2] == 0.5)\n",
    "\n",
    "print(\"Number of nodes:\", nodes.shape[0])\n",
    "print(\"Number of elements:\", elements.shape[0])"
   ]
  },
  {
   "cell_type": "markdown",
   "metadata": {},
   "source": [
    "## Small strain isotropic elasticity"
   ]
  },
  {
   "cell_type": "code",
   "execution_count": 2,
   "metadata": {},
   "outputs": [
    {
     "name": "stdout",
     "output_type": "stream",
     "text": [
      "Tip deflection (ABAQUS reference with 1 increment and 1 iteration):\n",
      "    X: -0.000 ( 0.000)\n",
      "    Y: -0.000 ( 0.000)\n",
      "    Z: -2.466 (-2.549)\n",
      "Maximum stress σ_xx: 108.787 (112.96)\n",
      "Maximum stress σ_xx: -108.787 (-112.96)\n"
     ]
    }
   ],
   "source": [
    "material = IsotropicElasticity3D(E=1000.0, nu=0.3)\n",
    "beam1 = Solid(nodes, elements, material)\n",
    "\n",
    "# Assign boundary conditions\n",
    "beam1.constraints[nodes[:, 0] == 0, :] = True\n",
    "beam1.forces[tip, 2] = P\n",
    "\n",
    "# Solve\n",
    "u1, f1, σ1, F1, α1 = beam1.solve()\n",
    "\n",
    "print(\"Tip deflection (ABAQUS reference with 1 increment and 1 iteration):\")\n",
    "print(f\"    X: {u1[tip,0].item():.3f} ( 0.000)\")\n",
    "print(f\"    Y: {u1[tip,1].item():.3f} ( 0.000)\")\n",
    "print(f\"    Z: {u1[tip,2].item():.3f} (-2.549)\")\n",
    "print(f\"Maximum stress σ_xx: {σ1[:,0,0].max():.3f} (112.96)\")\n",
    "print(f\"Maximum stress σ_xx: {σ1[:,0,0].min():.3f} (-112.96)\")"
   ]
  },
  {
   "cell_type": "markdown",
   "metadata": {},
   "source": [
    "## Isotropic Stain Venant-Kirchhoff"
   ]
  },
  {
   "cell_type": "code",
   "execution_count": 3,
   "metadata": {},
   "outputs": [
    {
     "name": "stdout",
     "output_type": "stream",
     "text": [
      "Tip deflection (ABAQUS reference with 1 increment and 15 iterations):\n",
      "    X: -0.759 (-0.506)\n",
      "    Y: -0.000 ( 0.000)\n",
      "    Z: -2.351 (-2.047)\n",
      "Maximum stress σ_xx: 118.633 (  97.325)\n",
      "Minimum stress σ_xx: -99.316 (-104.776)\n"
     ]
    }
   ],
   "source": [
    "# Create model with Kirchhoff material\n",
    "material = IsotropicSaintVenantKirchhoff3D(E=1000.0, nu=0.3)\n",
    "beam2 = Solid(nodes, elements, material)\n",
    "\n",
    "# Assign boundary conditions\n",
    "beam2.constraints[nodes[:, 0] == 0, :] = True\n",
    "beam2.forces[tip, 2] = P\n",
    "\n",
    "# Solve\n",
    "u2, f2, σ2, F2, α2 = beam2.solve(max_iter=100)\n",
    "\n",
    "print(\"Tip deflection (ABAQUS reference with 1 increment and 15 iterations):\")\n",
    "print(f\"    X: {u2[tip,0].item():.3f} (-0.506)\")\n",
    "print(f\"    Y: {u2[tip,1].item():.3f} ( 0.000)\")\n",
    "print(f\"    Z: {u2[tip,2].item():.3f} (-2.047)\")\n",
    "print(f\"Maximum stress σ_xx: {σ2[:,0,0].max():.3f} (  97.325)\")\n",
    "print(f\"Minimum stress σ_xx: {σ2[:,0,0].min():.3f} (-104.776)\")"
   ]
  },
  {
   "cell_type": "markdown",
   "metadata": {},
   "source": [
    "## Neo-Hookean "
   ]
  },
  {
   "cell_type": "code",
   "execution_count": 4,
   "metadata": {},
   "outputs": [
    {
     "name": "stdout",
     "output_type": "stream",
     "text": [
      "Tip deflection (ABAQUS reference with 4 increments and 13 iterations):\n",
      "    X: -0.698 (-0.514)\n",
      "    Y: -0.000 ( 0.000)\n",
      "    Z: -2.309 (-2.089)\n",
      "Maximum stress σ_xx: 106.444 ( 97.937)\n",
      "Minimum stress σ_xx: -111.137 (-98.494)\n"
     ]
    }
   ],
   "source": [
    "# Create model with Neo-Hookean material\n",
    "material = NeoHookean3D(lbd0=576.9231, mu0=384.6154)\n",
    "# print(f\"C10: {material.mu0/2}\")\n",
    "# print(f\"D1: {2/(material.lbd0+2/3*material.mu0)}\")\n",
    "beam3 = Solid(nodes, elements, material)\n",
    "\n",
    "# Assign boundary conditions\n",
    "beam3.constraints[nodes[:, 0] == 0, :] = True\n",
    "beam3.forces[tip, 2] = P\n",
    "\n",
    "# Solve\n",
    "u3, f3, σ3, F3, α3 = beam3.solve(max_iter=100)\n",
    "\n",
    "print(\"Tip deflection (ABAQUS reference with 4 increments and 13 iterations):\")\n",
    "print(f\"    X: {u3[tip,0].item():.3f} (-0.514)\")\n",
    "print(f\"    Y: {u3[tip,1].item():.3f} ( 0.000)\")\n",
    "print(f\"    Z: {u3[tip,2].item():.3f} (-2.089)\")\n",
    "print(f\"Maximum stress σ_xx: {σ3[:,0,0].max():.3f} ( 97.937)\")\n",
    "print(f\"Minimum stress σ_xx: {σ3[:,0,0].min():.3f} (-98.494)\")"
   ]
  },
  {
   "cell_type": "markdown",
   "metadata": {},
   "source": [
    "## Comparison"
   ]
  },
  {
   "cell_type": "code",
   "execution_count": 5,
   "metadata": {},
   "outputs": [
    {
     "data": {
      "application/vnd.jupyter.widget-view+json": {
       "model_id": "b967adf585db4b7f95cb9c9a89d95d84",
       "version_major": 2,
       "version_minor": 0
      },
      "text/plain": [
       "EmbeddableWidget(value='<iframe srcdoc=\"<!DOCTYPE html>\\n<html>\\n  <head>\\n    <meta http-equiv=&quot;Content-…"
      ]
     },
     "metadata": {},
     "output_type": "display_data"
    }
   ],
   "source": [
    "plotter = pyvista.Plotter()\n",
    "beam1.plot(color=\"gray\", plotter=plotter, opacity=0.1)\n",
    "beam1.plot(u=u1, color=\"cyan\", opacity=0.8, plotter=plotter)\n",
    "beam2.plot(u=u2, color=\"orange\", opacity=0.8, plotter=plotter)\n",
    "beam3.plot(u=u3, color=\"red\", opacity=0.8, plotter=plotter)\n",
    "plotter.show(jupyter_backend=\"html\")"
   ]
  }
 ],
 "metadata": {
  "kernelspec": {
   "display_name": "torchfem",
   "language": "python",
   "name": "python3"
  },
  "language_info": {
   "codemirror_mode": {
    "name": "ipython",
    "version": 3
   },
   "file_extension": ".py",
   "mimetype": "text/x-python",
   "name": "python",
   "nbconvert_exporter": "python",
   "pygments_lexer": "ipython3",
   "version": "3.10.13"
  }
 },
 "nbformat": 4,
 "nbformat_minor": 2
}
