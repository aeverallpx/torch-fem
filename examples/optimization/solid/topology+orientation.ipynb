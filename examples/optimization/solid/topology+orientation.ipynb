{
 "cells": [
  {
   "cell_type": "markdown",
   "metadata": {},
   "source": [
    "# Concurent topology and orientation optimization of a cantilever beam in 3D \n",
    "[![Google Collab Book](https://colab.research.google.com/assets/colab-badge.svg)](https://colab.research.google.com/github/meyer-nils/torch-fem/blob/main/examples/optimization/solid/topology+orientation.ipynb)\n",
    "\n",
    "Concurrent topology and orientation optimization of a cantilever beam in 3D."
   ]
  },
  {
   "cell_type": "code",
   "execution_count": null,
   "metadata": {},
   "outputs": [],
   "source": [
    "import torch\n",
    "from tqdm import tqdm\n",
    "from scipy.optimize import bisect\n",
    "import matplotlib.pyplot as plt\n",
    "import pyvista as pv\n",
    "\n",
    "from torchfem import Solid\n",
    "from torchfem.materials import TransverseIsotropicElasticity3D\n",
    "from torchfem.mesh import cube_hexa\n",
    "from torchfem.rotations import axis_rotation\n",
    "\n",
    "pv.start_xvfb()\n",
    "torch.set_default_dtype(torch.float64)"
   ]
  },
  {
   "cell_type": "markdown",
   "metadata": {},
   "source": [
    "## Model setup \n",
    "We start by defining the base problem without considering the optimization yet."
   ]
  },
  {
   "cell_type": "code",
   "execution_count": null,
   "metadata": {},
   "outputs": [],
   "source": [
    "# Material model\n",
    "material = TransverseIsotropicElasticity3D(\n",
    "    E_L=100.0, E_T=10.0, nu_L=0.3, nu_T=0.3, G_L=20.0\n",
    ")\n",
    "Nx = 20\n",
    "Ny = 10\n",
    "Nz = 15\n",
    "\n",
    "# Create mesh\n",
    "nodes, elements = cube_hexa(Nx + 1, Ny + 1, Nz + 1, Nx, Ny, Nz)\n",
    "\n",
    "model = Solid(nodes, elements, material)\n",
    "\n",
    "# Load at tip\n",
    "tip = nodes[:, 0] == Nx\n",
    "bottom = nodes[:, 2] == 0\n",
    "model.forces[tip & bottom, 2] = -1.0\n",
    "model.forces[tip & bottom & (nodes[:, 1] == 0), 2] = -0.5\n",
    "model.forces[tip & bottom & (nodes[:, 1] == Ny), 2] = -0.5\n",
    "\n",
    "# Constrained displacement at left end\n",
    "model.constraints[nodes[:, 0] == 0.0, :] = True\n",
    "\n",
    "# Solve\n",
    "u, f, sigma, epsilon, state = model.solve()\n",
    "\n",
    "# Plot\n",
    "model.plot(u=u, node_property={\"U\": u})"
   ]
  },
  {
   "cell_type": "markdown",
   "metadata": {},
   "source": [
    "## Optimization parameters \n",
    "We define the optimization parameters, i.e. the volume fraction, the penalization factor, the move limit, the filter radius, and the number of iterations."
   ]
  },
  {
   "cell_type": "code",
   "execution_count": null,
   "metadata": {},
   "outputs": [],
   "source": [
    "volfrac = 0.3\n",
    "p = 3\n",
    "move = 0.2\n",
    "R = 1.5\n",
    "TORCH_SENS = False\n",
    "ori_step = 10.0"
   ]
  },
  {
   "cell_type": "code",
   "execution_count": null,
   "metadata": {},
   "outputs": [],
   "source": [
    "# Initial, minimum, and maximum values of density\n",
    "rho = volfrac * torch.ones(len(elements), requires_grad=True)\n",
    "rho_min = 0.05 * torch.ones_like(rho)\n",
    "rho_max = torch.ones_like(rho)\n",
    "\n",
    "# Initial values of Euler angles\n",
    "phi_x = torch.zeros(len(elements), requires_grad=True)\n",
    "phi_y = torch.zeros(len(elements), requires_grad=True)\n",
    "phi_z = torch.zeros(len(elements), requires_grad=True)\n",
    "\n",
    "# Volume fraction\n",
    "V_0 = volfrac * Nx * Ny * Nz\n",
    "\n",
    "# Analytical gradient of the stiffness matrix\n",
    "k0 = model.k0()\n",
    "C0 = model.material.C.clone()\n",
    "\n",
    "# Precompute filter weights\n",
    "ecenters = torch.stack([torch.mean(nodes[e], dim=0) for e in elements])\n",
    "dist = torch.cdist(ecenters, ecenters)\n",
    "H = R - dist\n",
    "H[dist > R] = 0.0"
   ]
  },
  {
   "cell_type": "markdown",
   "metadata": {},
   "source": [
    "## Objective function\n",
    "\n",
    "The objective function is the compliance of the structure. The compliance is defined as\n",
    "$$\n",
    "C = \\frac{1}{2}\\bm{u}^\\top \\bm{f}\n",
    "$$\n",
    "where $\\bm{u}$ is the global displacement vector and $\\bm{f}$ is the global force vector. \n",
    "\n",
    "The compliance is a measure of the energy stored in the structure due to the applied force and we want to minimize w.r.t. to the relative element densities $\\bm{\\rho}$ and the element-wise fiber orientations $\\bm{\\phi}$ in order to get a stiff structure."
   ]
  },
  {
   "cell_type": "code",
   "execution_count": null,
   "metadata": {},
   "outputs": [],
   "source": [
    "def compliance(rho, phi_x, phi_y, phi_z):\n",
    "\n",
    "    # Apply density\n",
    "    model.material.C = torch.einsum(\"j,jklmn->jklmn\", rho**p, C0)\n",
    "\n",
    "    # Rotate\n",
    "    rotation_z = axis_rotation(torch.tensor([0.0, 0.0, 1.0]), phi_z)\n",
    "    rotation_y = axis_rotation(torch.tensor([0.0, 1.0, 0.0]), phi_y)\n",
    "    rotation_x = axis_rotation(torch.tensor([1.0, 0.0, 0.0]), phi_x)\n",
    "    rotation = rotation_x @ (rotation_y @ rotation_z)\n",
    "    model.material.rotate(rotation)\n",
    "\n",
    "    u, f, _, _, _ = model.solve()\n",
    "    return 0.5 * torch.inner(u.ravel(), f.ravel())"
   ]
  },
  {
   "cell_type": "markdown",
   "metadata": {},
   "source": [
    "## Filter\n",
    "\n",
    "We employ a sensitivity filter for the relative densities to regularize the problem (mesh dependency) and to avoid checkerboard patterns. The filter is defined as\n",
    "$$\n",
    "\\widetilde{\\frac{\\partial C}{\\partial \\rho_j}} = \\frac{1}{\\rho_j} \\frac{\\sum_i H_{ji} \\rho_i \\frac{\\partial C}{\\partial \\rho_i} }{\\sum_i H_{ji}}\n",
    "$$\n",
    "where $H_{ji}$ is the filter kernel. We use a simple linear filter kernel defined as \n",
    "$$\n",
    "H_{ji} = \\max(0, r - \\lVert \\bm{x}_i - \\bm{x}_j \\rVert)\n",
    "$$\n",
    "with element centers $\\bm{x}_i$ and $\\bm{x}_j$ and filter radius $r$."
   ]
  },
  {
   "cell_type": "code",
   "execution_count": null,
   "metadata": {},
   "outputs": [],
   "source": [
    "filter_radius = 1.5\n",
    "ecenters = torch.stack([torch.mean(nodes[e], dim=0) for e in elements])\n",
    "dist = torch.cdist(ecenters, ecenters)\n",
    "H = filter_radius - dist\n",
    "H[dist > filter_radius] = 0.0"
   ]
  },
  {
   "cell_type": "markdown",
   "metadata": {},
   "source": [
    "## Optimization with optimality constraints. \n",
    "\n",
    "This takes 5 minutes to run"
   ]
  },
  {
   "cell_type": "code",
   "execution_count": null,
   "metadata": {},
   "outputs": [],
   "source": [
    "def optimize(rho, phi_x, phi_y, phi_z, n_iter=100):\n",
    "    # Bounds\n",
    "    rho_min = 0.001 * torch.ones_like(rho)\n",
    "    rho_max = torch.ones_like(rho)\n",
    "\n",
    "    # Storage for compliance\n",
    "    energies = []\n",
    "\n",
    "    for _ in tqdm(range(n_iter)):\n",
    "        C = compliance(rho, phi_x, phi_y, phi_z)\n",
    "        dC_dphi_x = torch.autograd.grad(C, phi_x, retain_graph=True)[0]\n",
    "        dC_dphi_y = torch.autograd.grad(C, phi_y, retain_graph=True)[0]\n",
    "        dC_dphi_z = torch.autograd.grad(C, phi_z, retain_graph=True)[0]\n",
    "        dC_drho = torch.autograd.grad(C, rho)[0]\n",
    "        dC_drho = H @ (rho * dC_drho) / H.sum(dim=0) / rho\n",
    "\n",
    "        # For a certain value of mu, apply the iteration scheme\n",
    "        def make_step(mu):\n",
    "            G_k = -dC_drho / mu\n",
    "            upper = torch.min(rho_max, (1 + move) * rho)\n",
    "            lower = torch.max(rho_min, (1 - move) * rho)\n",
    "            rho_trial = G_k**0.5 * rho\n",
    "            return torch.max(torch.min(rho_trial, upper), lower)\n",
    "\n",
    "        # Constraint function\n",
    "        def g(mu):\n",
    "            rho_k = make_step(mu)\n",
    "            return rho_k.sum() - V_0\n",
    "\n",
    "        # Find the root of g(mu)\n",
    "        with torch.no_grad():\n",
    "            mu = bisect(g, 1e-10, 100.0)\n",
    "\n",
    "        # Advance rho and phi\n",
    "        rho.data = make_step(mu)\n",
    "        phi_x.data -= ori_step * dC_dphi_x.data\n",
    "        phi_y.data -= ori_step * dC_dphi_y.data\n",
    "        phi_z.data -= ori_step * dC_dphi_z.data\n",
    "\n",
    "        # Track compliance\n",
    "        with torch.no_grad():\n",
    "            energies.append(C.item())\n",
    "    return energies"
   ]
  },
  {
   "cell_type": "code",
   "execution_count": null,
   "metadata": {},
   "outputs": [],
   "source": [
    "energies = optimize(rho, phi_x, phi_y, phi_z, 30)\n",
    "plt.semilogy(energies, \".-k\")\n",
    "plt.grid()\n",
    "plt.title(\"Optimization history\")\n",
    "plt.xlabel(\"Iteration\")\n",
    "plt.ylabel(\"Compliance\")\n",
    "plt.show()"
   ]
  },
  {
   "cell_type": "markdown",
   "metadata": {},
   "source": [
    "# Make plots"
   ]
  },
  {
   "cell_type": "code",
   "execution_count": null,
   "metadata": {},
   "outputs": [],
   "source": [
    "# Rotate\n",
    "rotation_z = axis_rotation(torch.tensor([0.0, 0.0, 1.0]), phi_z)\n",
    "rotation_y = axis_rotation(torch.tensor([0.0, 1.0, 0.0]), phi_y)\n",
    "rotation_x = axis_rotation(torch.tensor([1.0, 0.0, 0.0]), phi_x)\n",
    "rotation = rotation_x @ (rotation_y @ rotation_z)\n",
    "dir = torch.moveaxis(\n",
    "    rotation @ torch.tensor([[1.0, 0.0, 0.0], [0.0, 1.0, 0.0], [0.0, 0.0, 1.0]]), 2, 1\n",
    ")\n",
    "\n",
    "model.plot(\n",
    "    element_property={\"rho\": rho},\n",
    "    cmap=\"gray_r\",\n",
    "    orientations=dir,\n",
    "    opacity=0.2,\n",
    "    threshold_condition=rho > 0.5,\n",
    ")"
   ]
  },
  {
   "cell_type": "code",
   "execution_count": null,
   "metadata": {},
   "outputs": [],
   "source": [
    "from torchfem.io import export_mesh\n",
    "\n",
    "export_mesh(model, \"result.vtu\", elem_data={\"rho\": [rho]})"
   ]
  }
 ],
 "metadata": {
  "kernelspec": {
   "display_name": ".venv",
   "language": "python",
   "name": "python3"
  },
  "language_info": {
   "codemirror_mode": {
    "name": "ipython",
    "version": 3
   },
   "file_extension": ".py",
   "mimetype": "text/x-python",
   "name": "python",
   "nbconvert_exporter": "python",
   "pygments_lexer": "ipython3",
   "version": "3.11.12"
  }
 },
 "nbformat": 4,
 "nbformat_minor": 2
}
