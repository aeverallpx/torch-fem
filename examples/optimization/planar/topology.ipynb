{
 "cells": [
  {
   "cell_type": "markdown",
   "metadata": {},
   "source": [
    "# Topology optimization of an MBB beam\n",
    "[![Google Collab Book](https://colab.research.google.com/assets/colab-badge.svg)](https://colab.research.google.com/github/meyer-nils/torch-fem/blob/main/examples/optimization/planar/topology.ipynb)\n",
    "\n",
    "The configuration of the topology optimization problem is defined as a dictionary that is consistent to the format used in [ToPy](https://github.com/williamhunter/topy) for comparison to well established codes.\n"
   ]
  },
  {
   "cell_type": "code",
   "execution_count": 1,
   "metadata": {},
   "outputs": [],
   "source": [
    "# The 'classic' 60x20 2d mbb beam, as per Ole Sigmund's 99 line code.\n",
    "config = {\n",
    "    \"FILT_RAD\": 1.5,\n",
    "    \"FXTR_NODE_X\": range(1, 22),\n",
    "    \"FXTR_NODE_Y\": 1281,\n",
    "    \"LOAD_NODE_Y\": 1,\n",
    "    \"LOAD_VALU_Y\": -1,\n",
    "    \"NUM_ELEM_X\": 60,\n",
    "    \"NUM_ELEM_Y\": 20,\n",
    "    \"NUM_ITER\": 94,\n",
    "    \"P_FAC\": 3.0,\n",
    "    \"VOL_FRAC\": 0.5,\n",
    "}"
   ]
  },
  {
   "cell_type": "markdown",
   "metadata": {},
   "source": [
    "Using the configuration, we can build the FEM model representing the solution domain."
   ]
  },
  {
   "cell_type": "code",
   "execution_count": 2,
   "metadata": {},
   "outputs": [
    {
     "data": {
      "image/png": "[encoded data removed]",
      "text/plain": [
       "<Figure size 800x600 with 1 Axes>"
      ]
     },
     "metadata": {},
     "output_type": "display_data"
    }
   ],
   "source": [
    "import torch\n",
    "\n",
    "torch.set_default_dtype(torch.double)\n",
    "\n",
    "from torchfem import Planar\n",
    "from torchfem.materials import IsotropicElasticityPlaneStress\n",
    "\n",
    "# Material model (plane stress)\n",
    "material = IsotropicElasticityPlaneStress(E=100.0, nu=0.3)\n",
    "\n",
    "Nx = config[\"NUM_ELEM_X\"]\n",
    "Ny = config[\"NUM_ELEM_Y\"]\n",
    "\n",
    "# Create nodes\n",
    "n1 = torch.linspace(0.0, Nx, Nx + 1)\n",
    "n2 = torch.linspace(Ny, 0.0, Ny + 1)\n",
    "n1, n2 = torch.stack(torch.meshgrid(n1, n2, indexing=\"ij\"))\n",
    "nodes = torch.stack([n1.ravel(), n2.ravel()], dim=1)\n",
    "\n",
    "# Create elements connecting nodes\n",
    "elements = []\n",
    "for j in range(Ny):\n",
    "    for i in range(Nx):\n",
    "        n0 = j + i * (Ny + 1)\n",
    "        elements.append([n0, n0 + 1, n0 + Ny + 2, n0 + Ny + 1])\n",
    "elements = torch.tensor(elements)\n",
    "\n",
    "model = Planar(nodes, elements, material)\n",
    "\n",
    "# Load at top\n",
    "model.forces[torch.tensor(config[\"LOAD_NODE_Y\"]) - 1, 1] = config[\"LOAD_VALU_Y\"]\n",
    "\n",
    "# Constrained displacement at left end\n",
    "model.constraints[torch.tensor(config[\"FXTR_NODE_X\"]) - 1, 0] = True\n",
    "model.constraints[torch.tensor(config[\"FXTR_NODE_Y\"]) - 1, 1] = True\n",
    "\n",
    "\n",
    "# Plot the domain\n",
    "model.plot()"
   ]
  },
  {
   "cell_type": "markdown",
   "metadata": {},
   "source": [
    "## Optimization\n",
    "We solve the toplogy optimization problem of minimizing compliance for a prescribed volume fraction via optimality conditions. To do so, we first define couple of optimization parameters:"
   ]
  },
  {
   "cell_type": "code",
   "execution_count": 3,
   "metadata": {},
   "outputs": [],
   "source": [
    "# Initial, minimum, and maximum values of design variables\n",
    "rho_0 = config[\"VOL_FRAC\"] * torch.ones(len(elements), requires_grad=True)\n",
    "rho_min = 0.01 * torch.ones_like(rho_0)\n",
    "rho_max = torch.ones_like(rho_0)\n",
    "\n",
    "# Volume fraction\n",
    "V_0 = config[\"VOL_FRAC\"] * Nx * Ny\n",
    "\n",
    "# Analytical gradient of the stiffness matrix\n",
    "k0 = torch.einsum(\"i,ijk->ijk\", 1.0 / model.thickness, model.k0())\n",
    "\n",
    "# Move limit for optimality condition algortihm\n",
    "move = 0.2\n",
    "\n",
    "# Precompute filter weights\n",
    "if config[\"FILT_RAD\"] > 0.0:\n",
    "    ecenters = torch.stack([torch.mean(nodes[e], dim=0) for e in elements])\n",
    "    dist = torch.cdist(ecenters, ecenters)\n",
    "    H = config[\"FILT_RAD\"] - dist\n",
    "    H[dist > config[\"FILT_RAD\"]] = 0.0"
   ]
  },
  {
   "cell_type": "markdown",
   "metadata": {},
   "source": [
    "This is the actual optimization using optimality conditions. There are two variants:\n",
    "- `TORCH_SENS = True` uses automatic differentiation to compute the sensitivities $\\frac{\\partial C}{\\partial \\rho_i}$ making use of the torch implementation of FEM. \n",
    "- `TORCH_SENS = False` uses the well established analytical solution for the sensitivities $$\\frac{\\partial C}{\\partial \\rho_i} = -p \\rho_i^{p-1} \\mathbf{u} \\cdot \\mathbf{k_0} \\cdot \\mathbf{u}.$$\n",
    "\n",
    "In this case, automatic differentiation is approximately 30-50% slower, but it eliminates the need to compute sensitivities. This might be useful, if analytical solutions are not as simple and readily available, as for the archetype topology optimization problem."
   ]
  },
  {
   "cell_type": "code",
   "execution_count": 4,
   "metadata": {},
   "outputs": [
    {
     "name": "stderr",
     "output_type": "stream",
     "text": [
      "100%|██████████| 94/94 [00:04<00:00, 21.32it/s]\n"
     ]
    }
   ],
   "source": [
    "from scipy.optimize import bisect\n",
    "from tqdm import tqdm\n",
    "\n",
    "rho = [rho_0]\n",
    "p = config[\"P_FAC\"]\n",
    "\n",
    "TORCH_SENS = False\n",
    "\n",
    "# Iterate solutions\n",
    "for k in tqdm(range(config[\"NUM_ITER\"])):\n",
    "    # Adjust thickness variables\n",
    "    model.thickness = rho[k] ** p\n",
    "\n",
    "    # Compute solution\n",
    "    u_k, f_k, _, _, _ = model.solve()\n",
    "\n",
    "    # Evaluation of compliance\n",
    "    compliance = torch.inner(f_k.ravel(), u_k.ravel())\n",
    "\n",
    "    if TORCH_SENS:\n",
    "        # The lazy variant - simply compute the sensitivity of the compliance via\n",
    "        # automatic differentiation.\n",
    "        sensitivity = torch.autograd.grad(compliance, rho[k])[0]\n",
    "    else:\n",
    "        # Compute analytical sensitivities\n",
    "        u_j = u_k[elements].reshape(model.n_elem, -1)\n",
    "        w_k = torch.einsum(\"...i, ...ij, ...j\", u_j, k0, u_j)\n",
    "        sensitivity = -p * rho[k] ** (p - 1.0) * w_k\n",
    "\n",
    "    # Filter sensitivities (if r provided)\n",
    "    if config[\"FILT_RAD\"] > 0.0:\n",
    "        sensitivity = H @ (rho[k] * sensitivity) / H.sum(dim=0) / rho[k]\n",
    "\n",
    "    # For a certain value of mu, apply the iteration scheme\n",
    "    def make_step(mu):\n",
    "        G_k = -sensitivity / mu\n",
    "        upper = torch.min(rho_max, (1 + move) * rho[k])\n",
    "        lower = torch.max(rho_min, (1 - move) * rho[k])\n",
    "        rho_trial = G_k**0.5 * rho[k]\n",
    "        return torch.maximum(torch.minimum(rho_trial, upper), lower)\n",
    "\n",
    "    # Constraint function\n",
    "    def g(mu):\n",
    "        rho_k = make_step(mu)\n",
    "        return rho_k.sum() - V_0\n",
    "\n",
    "    # Find the root of g(mu)\n",
    "    with torch.no_grad():\n",
    "        mu = bisect(g, 1e-10, 100.0)\n",
    "\n",
    "    rho.append(make_step(mu))"
   ]
  },
  {
   "cell_type": "code",
   "execution_count": 5,
   "metadata": {},
   "outputs": [
    {
     "data": {
      "image/png": "[encoded data removed]",
      "text/plain": [
       "<Figure size 800x600 with 1 Axes>"
      ]
     },
     "metadata": {},
     "output_type": "display_data"
    }
   ],
   "source": [
    "model.plot(element_property=rho[-1], cmap=\"gray_r\")"
   ]
  },
  {
   "cell_type": "markdown",
   "metadata": {},
   "source": [
    "## Export designs"
   ]
  },
  {
   "cell_type": "code",
   "execution_count": 6,
   "metadata": {},
   "outputs": [],
   "source": [
    "import numpy as np\n",
    "\n",
    "with torch.no_grad():\n",
    "    rho_export = np.array(rho).reshape(len(rho), Ny, Nx)\n",
    "    np.savez(\"mbb.npz\", rho=rho_export)"
   ]
  }
 ],
 "metadata": {
  "kernelspec": {
   "display_name": "torchfem",
   "language": "python",
   "name": "python3"
  },
  "language_info": {
   "codemirror_mode": {
    "name": "ipython",
    "version": 3
   },
   "file_extension": ".py",
   "mimetype": "text/x-python",
   "name": "python",
   "nbconvert_exporter": "python",
   "pygments_lexer": "ipython3",
   "version": "3.10.13"
  },
  "orig_nbformat": 4
 },
 "nbformat": 4,
 "nbformat_minor": 2
}
